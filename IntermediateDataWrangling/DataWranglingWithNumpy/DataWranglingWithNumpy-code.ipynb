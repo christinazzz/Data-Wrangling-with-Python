{
 "cells": [
  {
   "cell_type": "code",
   "execution_count": null,
   "id": "55899db4",
   "metadata": {},
   "outputs": [],
   "source": [
    "#######################################################\n",
    "#######################################################\n",
    "############    COPYRIGHT - DATA SOCIETY   ############\n",
    "#######################################################\n",
    "#######################################################\n",
    "\n",
    "## DATAWRANGLINGINPYTHON/DATAWRANGLINGWITHNUMPY/DATAWRANGLINGINPYTHON DATAWRANGLINGWITHNUMPY 1 ##\n",
    "\n",
    "## NOTE: To run individual pieces of code, select the line of code and\n",
    "##       press ctrl + enter for PCs or command + enter for Macs\n",
    "\n",
    "\n"
   ]
  },
  {
   "cell_type": "code",
   "execution_count": 2,
   "id": "90414d77",
   "metadata": {},
   "outputs": [
    {
     "name": "stdout",
     "output_type": "stream",
     "text": [
      "[ 17.  -10.   16.8  11. ]\n",
      "<class 'numpy.ndarray'>\n"
     ]
    }
   ],
   "source": [
    "#=================================================-\n",
    "#### Slide 7: Creating arrays  ####\n",
    "\n",
    "# Import numpy as 'np' sets 'np' as the shortcut/alias.\n",
    "import numpy as np\n",
    "\n",
    "# Create an array from a list. \n",
    "arr = np.array([17, -10, 16.8, 11])\n",
    "print(arr)\n",
    "\n",
    "# Check the type of the object.\n",
    "print(type(arr))\n"
   ]
  },
  {
   "cell_type": "code",
   "execution_count": 3,
   "id": "b11ab434",
   "metadata": {},
   "outputs": [
    {
     "name": "stdout",
     "output_type": "stream",
     "text": [
      "float64\n"
     ]
    }
   ],
   "source": [
    "#=================================================-\n",
    "#### Slide 8: Data type in arrays  ####\n",
    "\n",
    "# Check the data type stored in the array.\n",
    "print(arr.dtype)\n"
   ]
  },
  {
   "cell_type": "code",
   "execution_count": null,
   "id": "2297a8cc",
   "metadata": {},
   "outputs": [],
   "source": [
    "#=================================================-\n",
    "#### Slide 9: Using ndarray  ####\n",
    "\n",
    "x = np.array([3, 19, 7, 11])\n",
    "print(x)\n",
    "\n",
    "\n"
   ]
  },
  {
   "cell_type": "code",
   "execution_count": null,
   "id": "d8b3e7c9",
   "metadata": {},
   "outputs": [],
   "source": [
    "#=================================================-\n",
    "#### Slide 11: Building an array with linspace  ####\n",
    "\n",
    "y = np.linspace(-2, -1, 25)\n",
    "print(y)\n",
    "\n",
    "\n"
   ]
  },
  {
   "cell_type": "code",
   "execution_count": 1,
   "id": "d155ec99",
   "metadata": {},
   "outputs": [
    {
     "name": "stdout",
     "output_type": "stream",
     "text": [
      "[ 0.01  0.45 -0.3 ]\n",
      "[0.         0.02040816 0.04081633 0.06122449 0.08163265 0.10204082\n",
      " 0.12244898 0.14285714 0.16326531 0.18367347 0.20408163 0.2244898\n",
      " 0.24489796 0.26530612 0.28571429 0.30612245 0.32653061 0.34693878\n",
      " 0.36734694 0.3877551  0.40816327 0.42857143 0.44897959 0.46938776\n",
      " 0.48979592 0.51020408 0.53061224 0.55102041 0.57142857 0.59183673\n",
      " 0.6122449  0.63265306 0.65306122 0.67346939 0.69387755 0.71428571\n",
      " 0.73469388 0.75510204 0.7755102  0.79591837 0.81632653 0.83673469\n",
      " 0.85714286 0.87755102 0.89795918 0.91836735 0.93877551 0.95918367\n",
      " 0.97959184 1.        ]\n"
     ]
    }
   ],
   "source": [
    "#=================================================-\n",
    "#### Slide 12: Alternative ways of accessing functions  ####\n",
    "\n",
    "from numpy import array, linspace\n",
    "x = array([0.01, 0.45, -0.3])\n",
    "y = linspace(0, 1, 50)\n",
    "\n",
    "print(x)\n",
    "print(y)\n"
   ]
  },
  {
   "cell_type": "code",
   "execution_count": null,
   "id": "2bbb90c4",
   "metadata": {},
   "outputs": [],
   "source": [
    "#=================================================-\n",
    "#### Slide 16: Arrays vs. lists  ####\n",
    "\n",
    "mixed_array = np.array([1, 2, \"apple\", \"XYZ\", 5.5])\n",
    "print(mixed_array)\n",
    "\n",
    "\n"
   ]
  },
  {
   "cell_type": "code",
   "execution_count": null,
   "id": "7dffe022",
   "metadata": {},
   "outputs": [],
   "source": [
    "#=================================================-\n",
    "#### Slide 17: Arrays vs lists (cont'd)  ####\n",
    "\n",
    "print(mixed_array.dtype)\n",
    "mixed_array = np.array([3, 12, 5.56])\n",
    "print(mixed_array)\n",
    "print(mixed_array.dtype)\n",
    "\n",
    "\n"
   ]
  },
  {
   "cell_type": "code",
   "execution_count": null,
   "id": "2b4d0fc5",
   "metadata": {},
   "outputs": [],
   "source": [
    "#=================================================-\n",
    "#### Slide 19: Arrays from sequences (cont'd)  ####\n",
    "\n",
    "rng = np.arange(0, 51)\n",
    "print(rng)\n",
    "\n",
    "\n"
   ]
  },
  {
   "cell_type": "code",
   "execution_count": null,
   "id": "45a97831",
   "metadata": {},
   "outputs": [],
   "source": [
    "#=================================================-\n",
    "#### Slide 20: Arrays from sequences - using a step size  ####\n",
    "\n",
    "evens = np.arange(0, 23, 2)\n",
    "print(evens)\n",
    "\n",
    "quarters = np.arange(0, 1, .25)  #<- contains 0 to 0.75\n",
    "print(quarters)\n",
    "\n",
    "\n",
    "#######################################################\n",
    "####  CONGRATULATIONS ON COMPLETING THIS MODULE!   ####\n",
    "#######################################################\n"
   ]
  },
  {
   "cell_type": "code",
   "execution_count": null,
   "id": "bd80d369",
   "metadata": {},
   "outputs": [],
   "source": [
    "#######################################################\n",
    "#######################################################\n",
    "############    COPYRIGHT - DATA SOCIETY   ############\n",
    "#######################################################\n",
    "#######################################################\n",
    "\n",
    "## DATAWRANGLINGINPYTHON/DATAWRANGLINGWITHNUMPY/DATAWRANGLINGINPYTHON DATAWRANGLINGWITHNUMPY 2 ##\n",
    "\n",
    "## NOTE: To run individual pieces of code, select the line of code and\n",
    "##       press ctrl + enter for PCs or command + enter for Macs\n",
    "\n",
    "\n"
   ]
  },
  {
   "cell_type": "code",
   "execution_count": 3,
   "id": "edcc07a0",
   "metadata": {},
   "outputs": [
    {
     "name": "stdout",
     "output_type": "stream",
     "text": [
      "15.0\n",
      "19.0\n"
     ]
    }
   ],
   "source": [
    "#=================================================-\n",
    "#### Slide 2: Helper functions: min and max  ####\n",
    "\n",
    "import numpy as np\n",
    "\n",
    "# Generate 5 numbers between 15 and 19.\n",
    "x = np.linspace(15, 19, 5)\n",
    "\n",
    "# Find the min of x.\n",
    "print(np.amin(x))\n",
    "# Find the max of x.\n",
    "print(np.amax(x))\n",
    "\n",
    "\n"
   ]
  },
  {
   "cell_type": "code",
   "execution_count": 4,
   "id": "6b15317c",
   "metadata": {},
   "outputs": [
    {
     "data": {
      "text/plain": [
       "0"
      ]
     },
     "execution_count": 4,
     "metadata": {},
     "output_type": "execute_result"
    }
   ],
   "source": [
    "#=================================================-\n",
    "#### Slide 3: Helper functions: argmin and argmax  ####\n",
    "\n",
    "# Obtain index of max value\n",
    "np.argmax(x)\n",
    "# Obtain index of min value\n",
    "np.argmin(x)\n",
    "\n",
    "\n"
   ]
  },
  {
   "cell_type": "code",
   "execution_count": null,
   "id": "d1c4f92d",
   "metadata": {},
   "outputs": [],
   "source": [
    "#=================================================-\n",
    "#### Slide 4: Helper functions: sum  ####\n",
    "\n",
    "# Find the max of x.\n",
    "np.sum(x)\n",
    "\n",
    "\n"
   ]
  },
  {
   "cell_type": "code",
   "execution_count": null,
   "id": "9d3da540",
   "metadata": {},
   "outputs": [],
   "source": [
    "#=================================================-\n",
    "#### Slide 5: Helper functions: mean and median  ####\n",
    "\n",
    "# Find the mean of x.\n",
    "np.mean(x)\n",
    "# Find the median of x.\n",
    "np.median(x)\n",
    "\n",
    "\n"
   ]
  },
  {
   "cell_type": "code",
   "execution_count": 12,
   "id": "59d49411",
   "metadata": {},
   "outputs": [
    {
     "name": "stdout",
     "output_type": "stream",
     "text": [
      "[15 17]\n",
      "[15. 16. 17. 18. 19.]\n"
     ]
    },
    {
     "data": {
      "text/plain": [
       "array([1, 1, 2, 2, 2])"
      ]
     },
     "execution_count": 12,
     "metadata": {},
     "output_type": "execute_result"
    }
   ],
   "source": [
    "#=================================================-\n",
    "#### Slide 6: Helper functions: digitize  ####\n",
    "\n",
    "# Filter array using digitize\n",
    "bins = np.array([15, 17])\n",
    "print(bins)\n",
    "print(x)\n",
    "np.digitize(x,bins)\n",
    "# print(np.digitize(x,bins))\n",
    "# print(np.digitize(x,bins,right=True))\n",
    "\n",
    "\n",
    "\n"
   ]
  },
  {
   "cell_type": "code",
   "execution_count": 19,
   "id": "1704c807",
   "metadata": {},
   "outputs": [
    {
     "name": "stdout",
     "output_type": "stream",
     "text": [
      "[15. 16. 17. 18. 19.]\n"
     ]
    },
    {
     "data": {
      "text/plain": [
       "array([[15., 16., 17., 18., 19.]])"
      ]
     },
     "execution_count": 19,
     "metadata": {},
     "output_type": "execute_result"
    }
   ],
   "source": [
    "#=================================================-\n",
    "#### Slide 7: Helper functions: expand and squeeze  ####\n",
    "\n",
    "print(x)\n",
    "# Expand dimensions of the array horizontally\n",
    "np.expand_dims(x,axis=0)\n"
   ]
  },
  {
   "cell_type": "code",
   "execution_count": 21,
   "id": "cf10b2e7",
   "metadata": {},
   "outputs": [
    {
     "data": {
      "text/plain": [
       "array([[15.],\n",
       "       [16.],\n",
       "       [17.],\n",
       "       [18.],\n",
       "       [19.]])"
      ]
     },
     "execution_count": 21,
     "metadata": {},
     "output_type": "execute_result"
    }
   ],
   "source": [
    "# Expand dimensions of the array vertically\n",
    "np.expand_dims(x,axis=1)\n"
   ]
  },
  {
   "cell_type": "code",
   "execution_count": 22,
   "id": "cb2ca3f3",
   "metadata": {},
   "outputs": [
    {
     "data": {
      "text/plain": [
       "array([15., 16., 17., 18., 19.])"
      ]
     },
     "execution_count": 22,
     "metadata": {},
     "output_type": "execute_result"
    }
   ],
   "source": [
    "np.expand_dims(x,axis=1).squeeze()"
   ]
  },
  {
   "cell_type": "code",
   "execution_count": 23,
   "id": "e0b280c9",
   "metadata": {},
   "outputs": [
    {
     "data": {
      "text/plain": [
       "array([10, 25, 28, 30])"
      ]
     },
     "execution_count": 23,
     "metadata": {},
     "output_type": "execute_result"
    }
   ],
   "source": [
    "#=================================================-\n",
    "#### Slide 8: Helper functions: expand and squeeze (cont'd)  ####\n",
    "\n",
    "# Define an array in the format of lists\n",
    "y = np.array([[10],[25],[28],[30]])\n",
    "# Reduce dimensions of the array\n",
    "np.squeeze(y)\n",
    "\n",
    "\n"
   ]
  },
  {
   "cell_type": "code",
   "execution_count": 24,
   "id": "4e5af4b3",
   "metadata": {},
   "outputs": [
    {
     "name": "stdout",
     "output_type": "stream",
     "text": [
      "[ 0  2  4  6  8 10 12 14 16 18 20 22]\n",
      "[0, 2, 4, 6, 8, 10, 12, 14, 16, 18, 20, 22]\n"
     ]
    }
   ],
   "source": [
    "#=================================================-\n",
    "#### Slide 9: Convert an array to a list  ####\n",
    "\n",
    "evens = np.arange(0, 23, 2)\n",
    "# this is an array\n",
    "print(evens)\n",
    "# this is a list\n",
    "print(list(evens))\n",
    "\n",
    "\n"
   ]
  },
  {
   "cell_type": "code",
   "execution_count": 25,
   "id": "3e4a1442",
   "metadata": {},
   "outputs": [
    {
     "name": "stdout",
     "output_type": "stream",
     "text": [
      "[3 3 3 3]\n",
      "[-1 -1 -1 -1]\n",
      "[2 2 2 2]\n",
      "[0.5 0.5 0.5 0.5]\n"
     ]
    }
   ],
   "source": [
    "#=================================================-\n",
    "#### Slide 10: Operations on arrays  ####\n",
    "\n",
    "# Save two arrays as variables.\n",
    "a = np.array([1,1,1,1])\n",
    "b = np.array([2,2,2,2])\n",
    "\n",
    "# Addition of arrays.\n",
    "print(a + b)\n",
    "\n",
    "# Subtraction of arrays.\n",
    "print(a - b)\n",
    "# Multiplication of arrays.\n",
    "print(a * b)\n",
    "# Division of arrays.\n",
    "print(a / b)\n",
    "\n",
    "\n"
   ]
  },
  {
   "cell_type": "code",
   "execution_count": 33,
   "id": "5b1cd6d3",
   "metadata": {},
   "outputs": [
    {
     "name": "stdout",
     "output_type": "stream",
     "text": [
      "[1 1 1 1]\n",
      "[2 2 2 2]\n"
     ]
    },
    {
     "data": {
      "text/plain": [
       "array([], dtype=int64)"
      ]
     },
     "execution_count": 33,
     "metadata": {},
     "output_type": "execute_result"
    }
   ],
   "source": [
    "#=================================================-\n",
    "#### Slide 12: Set operations  ####\n",
    "print(a)\n",
    "b = np.array([2,2,2,2])\n",
    "print(b)\n",
    "c = np.array([1,2,3,4])\n",
    "# Retrieving common elements present in the arrays.\n",
    "np.intersect1d(a, b, return_indices=True)\n",
    "np.intersect1d(a, b, return_indices=False)\n"
   ]
  },
  {
   "cell_type": "code",
   "execution_count": 36,
   "id": "f7b86af1",
   "metadata": {},
   "outputs": [
    {
     "name": "stdout",
     "output_type": "stream",
     "text": [
      "[2 2 2 2]\n",
      "[1 2 3 4]\n"
     ]
    },
    {
     "data": {
      "text/plain": [
       "(array([2]), array([0]), array([1]))"
      ]
     },
     "execution_count": 36,
     "metadata": {},
     "output_type": "execute_result"
    }
   ],
   "source": [
    "print(b)\n",
    "print(c)\n",
    "np.intersect1d(b,c,return_indices=True)"
   ]
  },
  {
   "cell_type": "code",
   "execution_count": 27,
   "id": "288d3a7b",
   "metadata": {},
   "outputs": [
    {
     "data": {
      "text/plain": [
       "array([1, 2])"
      ]
     },
     "execution_count": 27,
     "metadata": {},
     "output_type": "execute_result"
    }
   ],
   "source": [
    "# Retrieving elements present in both the arrays.\n",
    "np.union1d(a, b)\n"
   ]
  },
  {
   "cell_type": "code",
   "execution_count": 28,
   "id": "545985db",
   "metadata": {},
   "outputs": [
    {
     "data": {
      "text/plain": [
       "array([1])"
      ]
     },
     "execution_count": 28,
     "metadata": {},
     "output_type": "execute_result"
    }
   ],
   "source": [
    "# Retrives the elements that are present only in the first array.\n",
    "# i.e., element in a, not b\n",
    "np.setdiff1d(a, b)\n"
   ]
  },
  {
   "cell_type": "code",
   "execution_count": null,
   "id": "65a2058e",
   "metadata": {},
   "outputs": [],
   "source": [
    "#=================================================-\n",
    "#### Slide 13: Stacking arrays  ####\n",
    "\n",
    "# Stacking arrays horizontally.\n",
    "np.hstack((a,b))\n",
    "\n",
    "# Stacking arrays vertically.\n",
    "np.vstack((a,b))\n",
    "\n",
    "\n"
   ]
  },
  {
   "cell_type": "code",
   "execution_count": 37,
   "id": "41628b96",
   "metadata": {},
   "outputs": [
    {
     "name": "stdout",
     "output_type": "stream",
     "text": [
      "3\n",
      "[2 7 1]\n",
      "20\n"
     ]
    }
   ],
   "source": [
    "#=================================================-\n",
    "#### Slide 15: Mathematical functions on arrays  ####\n",
    "\n",
    "print(np.abs(-3))\n",
    "print(np.abs([-2, -7, 1]))\n",
    "nums = np.arange(20, 30, .5)\n",
    "print(len(nums))\n",
    "\n",
    "\n"
   ]
  },
  {
   "cell_type": "code",
   "execution_count": null,
   "id": "af906752",
   "metadata": {},
   "outputs": [],
   "source": [
    "#=================================================-\n",
    "#### Slide 16: User-defined functions on arrays  ####\n",
    "\n",
    "# Define a function to multiply every element in array with 3 and add 1\n",
    "def some_calculation(arr):\n",
    "    return 3*arr+1\n",
    "    \n",
    "print(some_calculation(nums))\n",
    "\n",
    "\n",
    "#######################################################\n",
    "####  CONGRATULATIONS ON COMPLETING THIS MODULE!   ####\n",
    "#######################################################\n"
   ]
  },
  {
   "cell_type": "code",
   "execution_count": 39,
   "id": "c7023cac",
   "metadata": {},
   "outputs": [
    {
     "name": "stdout",
     "output_type": "stream",
     "text": [
      "[[[0.37420586 0.86757032]]\n",
      "\n",
      " [[0.53859243 0.48416962]]\n",
      "\n",
      " [[0.35875625 0.22862644]]\n",
      "\n",
      " [[0.57489307 0.27697518]]]\n",
      "[[[0.54425296]\n",
      "  [0.64752173]\n",
      "  [0.81550708]]]\n",
      "(4, 3, 2)\n"
     ]
    }
   ],
   "source": [
    "A = np.random.rand(4, 1, 2)  # Shape (4, 1, 2)\n",
    "B = np.random.rand(1, 3, 1)  # Shape (1, 3, 1)\n",
    "print(A)\n",
    "print(B)\n",
    "C = A + B  # Example of element-wise addition\n",
    "print(C.shape)  # This will print (4, 3, 2)"
   ]
  },
  {
   "cell_type": "code",
   "execution_count": null,
   "id": "e03c4e03",
   "metadata": {},
   "outputs": [],
   "source": [
    "#######################################################\n",
    "#######################################################\n",
    "############    COPYRIGHT - DATA SOCIETY   ############\n",
    "#######################################################\n",
    "#######################################################\n",
    "\n",
    "## DATAWRANGLINGINPYTHON/DATAWRANGLINGWITHNUMPY/DATAWRANGLINGINPYTHON DATAWRANGLINGWITHNUMPY 3 ##\n",
    "\n",
    "## NOTE: To run individual pieces of code, select the line of code and\n",
    "##       press ctrl + enter for PCs or command + enter for Macs\n",
    "\n",
    "\n"
   ]
  },
  {
   "cell_type": "code",
   "execution_count": null,
   "id": "b72e849a",
   "metadata": {},
   "outputs": [],
   "source": [
    "#=================================================-\n",
    "#### Slide 2: Recap: arrays  ####\n",
    "\n",
    "# Import numpy as 'np' sets 'np' as the shortcut/alias.\n",
    "import numpy as np\n",
    "\n",
    "\n"
   ]
  },
  {
   "cell_type": "code",
   "execution_count": null,
   "id": "5a5a82e3",
   "metadata": {},
   "outputs": [],
   "source": [
    "#=================================================-\n",
    "#### Slide 3: Accessing array values  ####\n",
    "\n",
    "nums = np.arange(20, 30, .5)\n",
    "\n",
    "print(nums[1])  #<- get the second element\n",
    "\n",
    "print(nums[0:3]) #<- get the first three elements\n",
    "\n",
    "\n"
   ]
  },
  {
   "cell_type": "code",
   "execution_count": null,
   "id": "a62adc97",
   "metadata": {},
   "outputs": [],
   "source": [
    "#=================================================-\n",
    "#### Slide 4: Logical filtering  ####\n",
    "\n",
    "print(nums)\n",
    "\n",
    "large_nums = nums[nums > 26]\n",
    "print(large_nums)\n",
    "\n",
    "\n"
   ]
  },
  {
   "cell_type": "code",
   "execution_count": null,
   "id": "18c5ac51",
   "metadata": {},
   "outputs": [],
   "source": [
    "#=================================================-\n",
    "#### Slide 5: Logical filtering (cont'd)  ####\n",
    "\n",
    "print(nums)\n",
    "\n",
    "large_nums = nums[nums > 26]\n",
    "print(large_nums)\n",
    "\n",
    "\n"
   ]
  },
  {
   "cell_type": "code",
   "execution_count": 40,
   "id": "2621d959",
   "metadata": {},
   "outputs": [
    {
     "name": "stdout",
     "output_type": "stream",
     "text": [
      "[[8 2 6 8]\n",
      " [4 5 7 2]\n",
      " [3 9 7 1]]\n"
     ]
    }
   ],
   "source": [
    "#=================================================-\n",
    "#### Slide 6: Two-dimensional arrays  ####\n",
    "\n",
    "mat = np.array([\n",
    "        [8, 2, 6, 8],\n",
    "        [4, 5, 7, 2],\n",
    "        [3, 9, 7, 1]\n",
    "       ])\n",
    "print(mat)\n",
    "\n",
    "\n"
   ]
  },
  {
   "cell_type": "code",
   "execution_count": 41,
   "id": "7a19af46",
   "metadata": {},
   "outputs": [
    {
     "name": "stdout",
     "output_type": "stream",
     "text": [
      "(3, 4)\n",
      "3\n"
     ]
    }
   ],
   "source": [
    "#=================================================-\n",
    "#### Slide 8: Two-dimensional arrays - shape (cont'd)  ####\n",
    "\n",
    "print(mat.shape) #<- 3 rows and 4 columns -- returned as a tuple\n",
    "nrows, ncols = mat.shape\n",
    "print(nrows)\n",
    "\n",
    "\n"
   ]
  },
  {
   "cell_type": "code",
   "execution_count": null,
   "id": "80c02c35",
   "metadata": {},
   "outputs": [],
   "source": [
    "#=================================================-\n",
    "#### Slide 9: Two-dimensional arrays - extracting elements  ####\n",
    "\n",
    "print(mat[1, 3]) #<- 2nd row 4th column - remember that indexing starts at 0!\n",
    "\n",
    "\n"
   ]
  },
  {
   "cell_type": "code",
   "execution_count": null,
   "id": "792befda",
   "metadata": {},
   "outputs": [],
   "source": [
    "#=================================================-\n",
    "#### Slide 10: Two-dimensional arrays - rows  ####\n",
    "\n",
    "print(mat[0, :]) #<- first row\n",
    "print(mat[0, 0:2]) #<- first row and just first 2 columns\n",
    "\n",
    "\n"
   ]
  },
  {
   "cell_type": "code",
   "execution_count": null,
   "id": "b751125b",
   "metadata": {},
   "outputs": [],
   "source": [
    "#=================================================-\n",
    "#### Slide 11: Two-dimensional arrays - columns  ####\n",
    "\n",
    "print(mat[:, 2]) #<- 3rd column\n",
    "print(mat[1:3, 2]) #<- 3rd column but skipping over the first row\n",
    "print(mat[1:3, 2:3]) #<- same as previous, but maintains the vertical structure of the column\n",
    "\n",
    "\n"
   ]
  },
  {
   "cell_type": "code",
   "execution_count": null,
   "id": "73135e22",
   "metadata": {},
   "outputs": [],
   "source": [
    "#=================================================-\n",
    "#### Slide 13: Reshaping arrays  ####\n",
    "\n",
    "arr = np.arange(1,13)\n",
    "print(arr)\n",
    "print(arr.reshape(3, 4))\n",
    "\n",
    "\n"
   ]
  },
  {
   "cell_type": "code",
   "execution_count": null,
   "id": "a37e7c9e",
   "metadata": {},
   "outputs": [],
   "source": [
    "#=================================================-\n",
    "#### Slide 15: Reshaping arrays (cont'd)  ####\n",
    "\n",
    "print(arr.reshape(2,      #<- specify number of rows=2\n",
    "                  2))     #<- number of columns=2 throws error\n",
    "\n",
    "\n"
   ]
  },
  {
   "cell_type": "code",
   "execution_count": null,
   "id": "79b9003d",
   "metadata": {},
   "outputs": [],
   "source": [
    "#=================================================-\n",
    "#### Slide 17: Exercise   ####\n",
    "\n",
    "\n",
    "\n",
    "\n",
    "#######################################################\n",
    "####  CONGRATULATIONS ON COMPLETING THIS MODULE!   ####\n",
    "#######################################################\n"
   ]
  }
 ],
 "metadata": {
  "kernelspec": {
   "display_name": "Python 3",
   "language": "python",
   "name": "python3"
  },
  "language": "python",
  "language_info": {
   "codemirror_mode": {
    "name": "ipython",
    "version": 3
   },
   "file_extension": ".py",
   "mimetype": "text/x-python",
   "name": "python",
   "nbconvert_exporter": "python",
   "pygments_lexer": "ipython3",
   "version": "3.11.9"
  }
 },
 "nbformat": 4,
 "nbformat_minor": 5
}
